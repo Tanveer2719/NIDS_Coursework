{
 "cells": [
  {
   "cell_type": "code",
   "execution_count": null,
   "id": "0b06f10a",
   "metadata": {},
   "outputs": [],
   "source": [
    "import tensorflow as tf\n",
    "\n",
    "print(\"TensorFlow version:\", tf.__version__)\n",
    "print(\"GPUs detected:\", tf.config.list_physical_devices('GPU'))"
   ]
  },
  {
   "cell_type": "code",
   "execution_count": null,
   "id": "be2cb463",
   "metadata": {},
   "outputs": [],
   "source": [
    "# create a temporary path for stoing files\n",
    "\n",
    "import os\n",
    "demonstration_folder = \"demonstration\"\n",
    "\n",
    "if not os.path.exists(demonstration_folder):\n",
    "    os.mkdir(demonstration_folder)"
   ]
  }
 ],
 "metadata": {
  "language_info": {
   "name": "python"
  }
 },
 "nbformat": 4,
 "nbformat_minor": 5
}
